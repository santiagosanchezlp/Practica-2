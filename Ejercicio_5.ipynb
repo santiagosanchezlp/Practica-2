{
 "cells": [
  {
   "cell_type": "markdown",
   "metadata": {},
   "source": [
    "## Ejercicio 5\n",
    "\n",
    "Para la aceptación de un artículo en un congreso se definen las siguientes especificaciones que deben cumplir y recomendaciones de escritura:\n",
    "* título:\n",
    "    * 10 palabras como máximo\n",
    "* cada oración del resumen:\n",
    "    * hasta 12 palabras: fácil de leer\n",
    "    * entre 13-17 palabras: aceptable para leer\n",
    "    * entre 18-25 palabras: difícil de leer\n",
    "    * mas de 25 palabras: muy difícil\n",
    "Es importante destacar que los números no se consideran palabras al momento del análisis por su facilidad de lectura.\n",
    "\n",
    "Dado un artículo en formato string, defina si cumple las especificaciones del título y cuántas oraciones tiene de cada categoría. El formato estándar en que recibe el string tiene la siguiente forma:\n",
    "> título: Experiences in Developing a Distributed Agent-based Modeling Toolkit with Python Version 3\n",
    "\n",
    "> resumen: Distributed agent-based modeling (ABM) on high-performance computing resources provides the promise of capturing unprecedented details of large-scale complex systems. However, the specialized knowledge required for developing such ABMs creates barriers to wider adoption and utilization. Here we present our experiences in developing an initial implementation of Repast4Py, a Python-based distributed ABM toolkit. We build on our experiences in developing ABM toolkits, including Repast for High Performance Computing (Repast\n",
    "HPC), to identify the key elements of a useful distributed ABM toolkit. We leverage the Numba, NumPy, and PyTorch packages and the Python C-API to create a scalable modeling system that can exploit the largest HPC resources and emerging computing architectures.\n",
    "\n",
    "En este ejemplo se debe informar:\n",
    "1. título: not ok\n",
    "2. Cantidad de oraciones fáciles de leer: 1, aceptables para leer: 2, dificil de leer: 1, muy difícil de leer: 2"
   ]
  },
  {
   "cell_type": "code",
   "execution_count": 3,
   "metadata": {},
   "outputs": [],
   "source": [
    "article = \"\"\"título: Experiences in Developing a Distributed Agent-based Modeling Toolkit with Python Version 3.\n",
    "resumen: Distributed agent-based modeling (ABM) on high-performance computing resources provides the promise of capturing unprecedented details of large-scale complex systems. However, the specialized knowledge required for developing such ABMs creates barriers to wider adoption and utilization. Here we present our experiences in developing an initial implementation of Repast4Py, a Python-based distributed ABM toolkit. We build on our experiences in developing ABM toolkits, including Repast for High Performance Computing (Repast HPC), to identify the key elements of a useful distributed ABM toolkit. We leverage the Numba, NumPy, and PyTorch packages and the Python C-API to create a scalable modeling system that can exploit the largest HPC resources and emerging computing architectures.\"\"\""
   ]
  },
  {
   "cell_type": "markdown",
   "metadata": {},
   "source": [
    "Efectuamos una limpieza del texto, eliminando comas, guiones y números"
   ]
  },
  {
   "cell_type": "code",
   "execution_count": 4,
   "metadata": {},
   "outputs": [],
   "source": [
    "clean_article = article.replace(\",\", \"\").replace(\"(\", \"\").replace(\")\", \"\").replace(\"-\", \"\")\n",
    "for number in (1, 2, 3, 4, 5, 6, 7, 8, 9, 0):\n",
    "    clean_article = clean_article.replace(\"number\", \"\")"
   ]
  },
  {
   "cell_type": "markdown",
   "metadata": {},
   "source": [
    "Separamos el título y el resumen.\n",
    "\n",
    "Separamos cada oración del resumen en una lista"
   ]
  },
  {
   "cell_type": "code",
   "execution_count": 30,
   "metadata": {},
   "outputs": [
    {
     "name": "stdout",
     "output_type": "stream",
     "text": [
      "['Distributed agentbased modeling ABM on highperformance computing resources provides the promise of capturing unprecedented details of largescale complex systems', ' However the specialized knowledge required for developing such ABMs creates barriers to wider adoption and utilization', ' Here we present our experiences in developing an initial implementation of Repast4Py a Pythonbased distributed ABM toolkit', ' We build on our experiences in developing ABM toolkits including Repast for High Performance Computing Repast HPC to identify the key elements of a useful distributed ABM toolkit', ' We leverage the Numba NumPy and PyTorch packages and the Python CAPI to create a scalable modeling system that can exploit the largest HPC resources and emerging computing architectures']\n"
     ]
    }
   ],
   "source": [
    "titulo = clean_article.split(sep=\"\\n\")[0]\n",
    "titulo = titulo[titulo.index(\":\") + 2:]\n",
    "resumen = clean_article.split(sep=\"\\n\")[1].split(sep=\".\")\n",
    "resumen[0] = resumen[0][resumen[0].index(\":\") + 2:]\n",
    "for sentence in resumen:\n",
    "    if len(sentence) == 0:\n",
    "        resumen.remove(sentence)\n",
    "print(resumen)"
   ]
  },
  {
   "cell_type": "markdown",
   "metadata": {},
   "source": [
    "Verificamos el cumplimiento de la especificación del título:\n",
    "* 10 palabras como máximo"
   ]
  },
  {
   "cell_type": "code",
   "execution_count": 31,
   "metadata": {},
   "outputs": [
    {
     "name": "stdout",
     "output_type": "stream",
     "text": [
      "titulo: not ok\n"
     ]
    }
   ],
   "source": [
    "if len(titulo) > 10:\n",
    "    print(\"titulo: not ok\")\n",
    "else:\n",
    "    print(\"titulo: ok\")"
   ]
  },
  {
   "cell_type": "markdown",
   "metadata": {},
   "source": [
    "Verificamos la complejidad de las oraciones que forman parte del artículo."
   ]
  },
  {
   "cell_type": "code",
   "execution_count": 32,
   "metadata": {},
   "outputs": [
    {
     "name": "stdout",
     "output_type": "stream",
     "text": [
      "Cantidad de oraciones:\n",
      "fácil de leer : 0\n",
      "aceptable para leer : 2\n",
      "difícil de leer : 1\n",
      "muy difícil : 2\n"
     ]
    }
   ],
   "source": [
    "dict_complejidades = {\"fácil de leer\": 0, \"aceptable para leer\": 0, \"difícil de leer\": 0, \"muy difícil\": 0}\n",
    "for sentence in resumen:\n",
    "    if len(sentence.split()) < 13:\n",
    "        dict_complejidades[\"fácil de leer\"] += 1\n",
    "    elif len(sentence.split()) >= 13 and len(sentence.split()) <= 17:\n",
    "        dict_complejidades[\"aceptable para leer\"] += 1\n",
    "    elif len(sentence.split()) >= 18 and len(sentence.split()) <= 25:\n",
    "        dict_complejidades[\"difícil de leer\"] += 1\n",
    "    elif len(sentence.split()) > 25:\n",
    "        dict_complejidades[\"muy difícil\"] += 1\n",
    "print(\"Cantidad de oraciones:\")\n",
    "for sentence in dict_complejidades:\n",
    "    print(sentence,\":\", dict_complejidades[sentence])"
   ]
  }
 ],
 "metadata": {
  "kernelspec": {
   "display_name": "venv",
   "language": "python",
   "name": "python3"
  },
  "language_info": {
   "codemirror_mode": {
    "name": "ipython",
    "version": 3
   },
   "file_extension": ".py",
   "mimetype": "text/x-python",
   "name": "python",
   "nbconvert_exporter": "python",
   "pygments_lexer": "ipython3",
   "version": "3.11.7"
  }
 },
 "nbformat": 4,
 "nbformat_minor": 2
}
