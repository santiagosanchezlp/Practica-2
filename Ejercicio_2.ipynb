{
 "cells": [
  {
   "cell_type": "markdown",
   "metadata": {},
   "source": [
    "## Ejercicio 2\n",
    "\n",
    "Indique la palabra con más de 4 caracteres que aparece mayor cantidad de veces en el texto del README.md de numpy. Copie y pegue el texto en una variable.\n",
    "\n",
    "Recordemos algunas funciones de string:\n",
    "\n",
    "* lower\n",
    "* split\n",
    "    \n",
    "Investigue el módulo Counter para simplificar la resolución."
   ]
  },
  {
   "cell_type": "markdown",
   "metadata": {},
   "source": [
    "1. Copiamos el texto de README.md utilizado en el ejercicio 1"
   ]
  },
  {
   "cell_type": "code",
   "execution_count": 1,
   "metadata": {},
   "outputs": [],
   "source": [
    "text = \"\"\"<h1 align=\"center\">\n",
    "<img src=\"https://raw.githubusercontent.com/numpy/numpy/main/branding/logo/primary/numpylogo.svg\" width=\"300\">\n",
    "</h1><br>\n",
    "\n",
    "\n",
    "[![Powered by NumFOCUS](https://img.shields.io/badge/powered%20by-NumFOCUS-orange.svg?style=flat&colorA=E1523D&colorB=007D8A)](\n",
    "https://numfocus.org)\n",
    "[![PyPI Downloads](https://img.shields.io/pypi/dm/numpy.svg?label=PyPI%20downloads)](\n",
    "https://pypi.org/project/numpy/)\n",
    "[![Conda Downloads](https://img.shields.io/conda/dn/conda-forge/numpy.svg?label=Conda%20downloads)](\n",
    "https://anaconda.org/conda-forge/numpy)\n",
    "[![Stack Overflow](https://img.shields.io/badge/stackoverflow-Ask%20questions-blue.svg)](\n",
    "https://stackoverflow.com/questions/tagged/numpy)\n",
    "[![Nature Paper](https://img.shields.io/badge/DOI-10.1038%2Fs41586--020--2649--2-blue)](\n",
    "https://doi.org/10.1038/s41586-020-2649-2)\n",
    "[![OpenSSF Scorecard](https://api.securityscorecards.dev/projects/github.com/numpy/numpy/badge)](https://securityscorecards.dev/viewer/?uri=github.com/numpy/numpy)\n",
    "\n",
    "\n",
    "NumPy is the fundamental package for scientific computing with Python.\n",
    "\n",
    "- **Website:** https://www.numpy.org\n",
    "- **Documentation:** https://numpy.org/doc\n",
    "- **Mailing list:** https://mail.python.org/mailman/listinfo/numpy-discussion\n",
    "- **Source code:** https://github.com/numpy/numpy\n",
    "- **Contributing:** https://www.numpy.org/devdocs/dev/index.html\n",
    "- **Bug reports:** https://github.com/numpy/numpy/issues\n",
    "- **Report a security vulnerability:** https://tidelift.com/docs/security\n",
    "\n",
    "It provides:\n",
    "\n",
    "- a powerful N-dimensional array object\n",
    "- sophisticated (broadcasting) functions\n",
    "- tools for integrating C/C++ and Fortran code\n",
    "- useful linear algebra, Fourier transform, and random number capabilities\n",
    "\n",
    "Testing:\n",
    "\n",
    "NumPy requires `pytest` and `hypothesis`.  Tests can then be run after installation with:\n",
    "\n",
    "    python -c \"import numpy, sys; sys.exit(numpy.test() is False)\"\n",
    "\n",
    "Code of Conduct\n",
    "----------------------\n",
    "\n",
    "NumPy is a community-driven open source project developed by a diverse group of\n",
    "[contributors](https://numpy.org/teams/). The NumPy leadership has made a strong\n",
    "commitment to creating an open, inclusive, and positive community. Please read the\n",
    "[NumPy Code of Conduct](https://numpy.org/code-of-conduct/) for guidance on how to interact\n",
    "with others in a way that makes our community thrive.\n",
    "\n",
    "Call for Contributions\n",
    "----------------------\n",
    "\n",
    "The NumPy project welcomes your expertise and enthusiasm!\n",
    "\n",
    "Small improvements or fixes are always appreciated. If you are considering larger contributions\n",
    "to the source code, please contact us through the [mailing\n",
    "list](https://mail.python.org/mailman/listinfo/numpy-discussion) first.\n",
    "\n",
    "Writing code isn’t the only way to contribute to NumPy. You can also:\n",
    "- review pull requests\n",
    "- help us stay on top of new and old issues\n",
    "- develop tutorials, presentations, and other educational materials\n",
    "- maintain and improve [our website](https://github.com/numpy/numpy.org)\n",
    "- develop graphic design for our brand assets and promotional materials\n",
    "- translate website content\n",
    "- help with outreach and onboard new contributors\n",
    "- write grant proposals and help with other fundraising efforts\n",
    "\n",
    "For more information about the ways you can contribute to NumPy, visit [our website](https://numpy.org/contribute/). \n",
    "If you’re unsure where to start or how your skills fit in, reach out! You can\n",
    "ask on the mailing list or here, on GitHub, by opening a new issue or leaving a\n",
    "comment on a relevant issue that is already open.\n",
    "\n",
    "Our preferred channels of communication are all public, but if you’d like to\n",
    "speak to us in private first, contact our community coordinators at\n",
    "numpy-team@googlegroups.com or on Slack (write numpy-team@googlegroups.com for\n",
    "an invitation).\n",
    "\n",
    "We also have a biweekly community call, details of which are announced on the\n",
    "mailing list. You are very welcome to join.\n",
    "\n",
    "If you are new to contributing to open source, [this\n",
    "guide](https://opensource.guide/how-to-contribute/) helps explain why, what,\n",
    "and how to successfully get involved.\"\"\""
   ]
  },
  {
   "cell_type": "markdown",
   "metadata": {},
   "source": [
    "2. Efectuamos una limpieza del texto para que únicamente contenga letras en minúscula y números"
   ]
  },
  {
   "cell_type": "code",
   "execution_count": 11,
   "metadata": {},
   "outputs": [],
   "source": [
    "cleantext = text.replace(\"[\", \"\").replace(\"]\", \"\").replace(\"!\", \"\").replace(\"*\", \"\").replace(\"(\", \"\").replace(\")\", \"\").replace(\",\", \"\").replace(\".\", \"\").replace(\"<\", \"\").replace(\">\", \"\").replace(\":\", \"\").replace(\"\\\"\", \"\").lower()"
   ]
  },
  {
   "cell_type": "markdown",
   "metadata": {},
   "source": [
    "3. Creamos una lista de palabras en el texto con más de 4 letras y un conjunto de las palabras no repetidas"
   ]
  },
  {
   "cell_type": "code",
   "execution_count": 22,
   "metadata": {},
   "outputs": [
    {
     "name": "stdout",
     "output_type": "stream",
     "text": [
      "['align=center', 'src=https//rawgithubusercontentcom/numpy/numpy/main/branding/logo/primary/numpylogosvg', 'width=300', '/h1br', 'powered', 'numfocushttps//imgshieldsio/badge/powered%20by-numfocus-orangesvg?style=flat&colora=e1523d&colorb=007d8a', 'https//numfocusorg', 'downloadshttps//imgshieldsio/pypi/dm/numpysvg?label=pypi%20downloads', 'https//pypiorg/project/numpy/', 'conda', 'downloadshttps//imgshieldsio/conda/dn/conda-forge/numpysvg?label=conda%20downloads', 'https//anacondaorg/conda-forge/numpy', 'stack', 'overflowhttps//imgshieldsio/badge/stackoverflow-ask%20questions-bluesvg', 'https//stackoverflowcom/questions/tagged/numpy', 'nature', 'paperhttps//imgshieldsio/badge/doi-101038%2fs41586--020--2649--2-blue', 'https//doiorg/101038/s41586-020-2649-2', 'openssf', 'scorecardhttps//apisecurityscorecardsdev/projects/githubcom/numpy/numpy/badgehttps//securityscorecardsdev/viewer/?uri=githubcom/numpy/numpy', 'numpy', 'fundamental', 'package', 'scientific', 'computing', 'python', 'website', 'https//wwwnumpyorg', 'documentation', 'https//numpyorg/doc', 'mailing', 'https//mailpythonorg/mailman/listinfo/numpy-discussion', 'source', 'https//githubcom/numpy/numpy', 'contributing', 'https//wwwnumpyorg/devdocs/dev/indexhtml', 'reports', 'https//githubcom/numpy/numpy/issues', 'report', 'security', 'vulnerability', 'https//tideliftcom/docs/security', 'provides', 'powerful', 'n-dimensional', 'array', 'object', 'sophisticated', 'broadcasting', 'functions', 'tools', 'integrating', 'c/c++', 'fortran', 'useful', 'linear', 'algebra', 'fourier', 'transform', 'random', 'number', 'capabilities', 'testing', 'numpy', 'requires', '`pytest`', '`hypothesis`', 'tests', 'after', 'installation', 'python', 'import', 'numpy', 'sysexitnumpytest', 'false', 'conduct', '----------------------', 'numpy', 'community-driven', 'source', 'project', 'developed', 'diverse', 'group', 'contributorshttps//numpyorg/teams/', 'numpy', 'leadership', 'strong', 'commitment', 'creating', 'inclusive', 'positive', 'community', 'please', 'numpy', 'conducthttps//numpyorg/code-of-conduct/', 'guidance', 'interact', 'others', 'makes', 'community', 'thrive', 'contributions', '----------------------', 'numpy', 'project', 'welcomes', 'expertise', 'enthusiasm', 'small', 'improvements', 'fixes', 'always', 'appreciated', 'considering', 'larger', 'contributions', 'source', 'please', 'contact', 'through', 'mailing', 'listhttps//mailpythonorg/mailman/listinfo/numpy-discussion', 'first', 'writing', 'isn’t', 'contribute', 'numpy', 'review', 'requests', 'issues', 'develop', 'tutorials', 'presentations', 'other', 'educational', 'materials', 'maintain', 'improve', 'websitehttps//githubcom/numpy/numpyorg', 'develop', 'graphic', 'design', 'brand', 'assets', 'promotional', 'materials', 'translate', 'website', 'content', 'outreach', 'onboard', 'contributors', 'write', 'grant', 'proposals', 'other', 'fundraising', 'efforts', 'information', 'about', 'contribute', 'numpy', 'visit', 'websitehttps//numpyorg/contribute/', 'you’re', 'unsure', 'where', 'start', 'skills', 'reach', 'mailing', 'github', 'opening', 'issue', 'leaving', 'comment', 'relevant', 'issue', 'already', 'preferred', 'channels', 'communication', 'public', 'you’d', 'speak', 'private', 'first', 'contact', 'community', 'coordinators', 'numpy-team@googlegroupscom', 'slack', 'write', 'numpy-team@googlegroupscom', 'invitation', 'biweekly', 'community', 'details', 'which', 'announced', 'mailing', 'welcome', 'contributing', 'source', 'guidehttps//opensourceguide/how-to-contribute/', 'helps', 'explain', 'successfully', 'involved']\n",
      "{'contributors', 'numpy-team@googlegroupscom', 'announced', 'graphic', 'linear', 'promotional', 'coordinators', 'slack', 'onboard', 'https//tideliftcom/docs/security', 'conduct', 'functions', 'developed', 'educational', 'leaving', 'you’d', 'inclusive', 'develop', 'scientific', 'nature', 'reach', 'please', 'welcomes', 'https//mailpythonorg/mailman/listinfo/numpy-discussion', 'websitehttps//numpyorg/contribute/', 'where', 'contribute', '`hypothesis`', 'powered', 'https//wwwnumpyorg/devdocs/dev/indexhtml', 'overflowhttps//imgshieldsio/badge/stackoverflow-ask%20questions-bluesvg', 'successfully', 'details', 'positive', 'considering', 'enthusiasm', 'contributorshttps//numpyorg/teams/', 'contributing', 'https//numpyorg/doc', 'improve', 'other', 'write', 'align=center', 'requires', 'numpy', 'presentations', 'improvements', 'https//stackoverflowcom/questions/tagged/numpy', 'larger', 'after', 'conducthttps//numpyorg/code-of-conduct/', 'https//doiorg/101038/s41586-020-2649-2', 'proposals', 'website', 'contributions', 'which', 'private', 'python', 'diverse', 'maintain', 'powerful', 'scorecardhttps//apisecurityscorecardsdev/projects/githubcom/numpy/numpy/badgehttps//securityscorecardsdev/viewer/?uri=githubcom/numpy/numpy', 'expertise', 'helps', 'stack', 'guidehttps//opensourceguide/how-to-contribute/', 'involved', 'paperhttps//imgshieldsio/badge/doi-101038%2fs41586--020--2649--2-blue', 'materials', 'fourier', 'provides', 'package', 'tools', 'unsure', 'biweekly', 'https//numfocusorg', 'c/c++', 'makes', 'numfocushttps//imgshieldsio/badge/powered%20by-numfocus-orangesvg?style=flat&colora=e1523d&colorb=007d8a', 'fortran', 'conda', 'grant', 'small', 'visit', 'already', 'speak', 'reports', 'invitation', 'github', 'group', 'always', 'efforts', 'opening', 'review', 'others', 'broadcasting', 'thrive', 'width=300', 'array', 'random', 'public', 'https//githubcom/numpy/numpy', 'sysexitnumpytest', 'testing', 'community-driven', 'installation', 'websitehttps//githubcom/numpy/numpyorg', 'brand', 'leadership', 'fixes', 'issues', 'outreach', 'guidance', 'listhttps//mailpythonorg/mailman/listinfo/numpy-discussion', 'project', 'security', 'object', 'fundamental', 'downloadshttps//imgshieldsio/conda/dn/conda-forge/numpysvg?label=conda%20downloads', 'src=https//rawgithubusercontentcom/numpy/numpy/main/branding/logo/primary/numpylogosvg', 'n-dimensional', 'information', 'about', '`pytest`', 'strong', 'https//anacondaorg/conda-forge/numpy', 'openssf', 'integrating', 'source', 'import', 'start', 'creating', 'relevant', 'useful', 'design', 'through', '----------------------', 'isn’t', 'requests', 'content', 'fundraising', 'capabilities', 'you’re', 'explain', 'commitment', 'first', 'vulnerability', 'channels', 'mailing', 'translate', 'downloadshttps//imgshieldsio/pypi/dm/numpysvg?label=pypi%20downloads', 'welcome', 'report', 'issue', 'skills', 'contact', 'https//githubcom/numpy/numpy/issues', 'interact', 'writing', 'documentation', 'assets', 'https//wwwnumpyorg', 'communication', 'tutorials', 'preferred', 'computing', 'tests', 'comment', '/h1br', 'https//pypiorg/project/numpy/', 'community', 'sophisticated', 'number', 'algebra', 'false', 'appreciated', 'transform'}\n",
      "{'contributors': 1, 'numpy-team@googlegroupscom': 2, 'announced': 1, 'graphic': 1, 'linear': 1, 'promotional': 1, 'coordinators': 1, 'slack': 1, 'onboard': 1, 'https//tideliftcom/docs/security': 1, 'conduct': 1, 'functions': 1, 'developed': 1, 'educational': 1, 'leaving': 1, 'you’d': 1, 'inclusive': 1, 'develop': 2, 'scientific': 1, 'nature': 1, 'reach': 1, 'please': 2, 'welcomes': 1, 'https//mailpythonorg/mailman/listinfo/numpy-discussion': 1, 'websitehttps//numpyorg/contribute/': 1, 'where': 1, 'contribute': 2, '`hypothesis`': 1, 'powered': 1, 'https//wwwnumpyorg/devdocs/dev/indexhtml': 1, 'overflowhttps//imgshieldsio/badge/stackoverflow-ask%20questions-bluesvg': 1, 'successfully': 1, 'details': 1, 'positive': 1, 'considering': 1, 'enthusiasm': 1, 'contributorshttps//numpyorg/teams/': 1, 'contributing': 2, 'https//numpyorg/doc': 1, 'improve': 1, 'other': 2, 'write': 2, 'align=center': 1, 'requires': 1, 'numpy': 9, 'presentations': 1, 'improvements': 1, 'https//stackoverflowcom/questions/tagged/numpy': 1, 'larger': 1, 'after': 1, 'conducthttps//numpyorg/code-of-conduct/': 1, 'https//doiorg/101038/s41586-020-2649-2': 1, 'proposals': 1, 'website': 2, 'contributions': 2, 'which': 1, 'private': 1, 'python': 2, 'diverse': 1, 'maintain': 1, 'powerful': 1, 'scorecardhttps//apisecurityscorecardsdev/projects/githubcom/numpy/numpy/badgehttps//securityscorecardsdev/viewer/?uri=githubcom/numpy/numpy': 1, 'expertise': 1, 'helps': 1, 'stack': 1, 'guidehttps//opensourceguide/how-to-contribute/': 1, 'involved': 1, 'paperhttps//imgshieldsio/badge/doi-101038%2fs41586--020--2649--2-blue': 1, 'materials': 2, 'fourier': 1, 'provides': 1, 'package': 1, 'tools': 1, 'unsure': 1, 'biweekly': 1, 'https//numfocusorg': 1, 'c/c++': 1, 'makes': 1, 'numfocushttps//imgshieldsio/badge/powered%20by-numfocus-orangesvg?style=flat&colora=e1523d&colorb=007d8a': 1, 'fortran': 1, 'conda': 1, 'grant': 1, 'small': 1, 'visit': 1, 'already': 1, 'speak': 1, 'reports': 1, 'invitation': 1, 'github': 1, 'group': 1, 'always': 1, 'efforts': 1, 'opening': 1, 'review': 1, 'others': 1, 'broadcasting': 1, 'thrive': 1, 'width=300': 1, 'array': 1, 'random': 1, 'public': 1, 'https//githubcom/numpy/numpy': 1, 'sysexitnumpytest': 1, 'testing': 1, 'community-driven': 1, 'installation': 1, 'websitehttps//githubcom/numpy/numpyorg': 1, 'brand': 1, 'leadership': 1, 'fixes': 1, 'issues': 1, 'outreach': 1, 'guidance': 1, 'listhttps//mailpythonorg/mailman/listinfo/numpy-discussion': 1, 'project': 2, 'security': 1, 'object': 1, 'fundamental': 1, 'downloadshttps//imgshieldsio/conda/dn/conda-forge/numpysvg?label=conda%20downloads': 1, 'src=https//rawgithubusercontentcom/numpy/numpy/main/branding/logo/primary/numpylogosvg': 1, 'n-dimensional': 1, 'information': 1, 'about': 1, '`pytest`': 1, 'strong': 1, 'https//anacondaorg/conda-forge/numpy': 1, 'openssf': 1, 'integrating': 1, 'source': 4, 'import': 1, 'start': 1, 'creating': 1, 'relevant': 1, 'useful': 1, 'design': 1, 'through': 1, '----------------------': 2, 'isn’t': 1, 'requests': 1, 'content': 1, 'fundraising': 1, 'capabilities': 1, 'you’re': 1, 'explain': 1, 'commitment': 1, 'first': 2, 'vulnerability': 1, 'channels': 1, 'mailing': 4, 'translate': 1, 'downloadshttps//imgshieldsio/pypi/dm/numpysvg?label=pypi%20downloads': 1, 'welcome': 1, 'report': 1, 'issue': 2, 'skills': 1, 'contact': 2, 'https//githubcom/numpy/numpy/issues': 1, 'interact': 1, 'writing': 1, 'documentation': 1, 'assets': 1, 'https//wwwnumpyorg': 1, 'communication': 1, 'tutorials': 1, 'preferred': 1, 'computing': 1, 'tests': 1, 'comment': 1, '/h1br': 1, 'https//pypiorg/project/numpy/': 1, 'community': 4, 'sophisticated': 1, 'number': 1, 'algebra': 1, 'false': 1, 'appreciated': 1, 'transform': 1}\n",
      "numpy\n"
     ]
    }
   ],
   "source": [
    "words = [word for word in cleantext.split() if len(word) > 4]\n",
    "key = set(words)"
   ]
  },
  {
   "cell_type": "markdown",
   "metadata": {},
   "source": [
    "4. Creamos un diccionario en el que la key es el conjunto y el valor es el conteo de veces que se repite"
   ]
  },
  {
   "cell_type": "code",
   "execution_count": null,
   "metadata": {},
   "outputs": [],
   "source": [
    "dict_count = {word:words.count(word) for word in key}"
   ]
  },
  {
   "cell_type": "markdown",
   "metadata": {},
   "source": [
    "5. Utilizando la función max, identificamos la key asociada al valor que más se repite y la imprimimos"
   ]
  },
  {
   "cell_type": "code",
   "execution_count": null,
   "metadata": {},
   "outputs": [],
   "source": [
    "print(max(dict_count, key=dict_count.get))"
   ]
  },
  {
   "cell_type": "markdown",
   "metadata": {},
   "source": [
    "## Otra forma de resolver el ejercicio\n",
    "\n",
    "A partir del punto 3., Counter nos permite crear el diccionario de una forma más legible, sin necesidad de recurrir a un set como paso intermedio."
   ]
  },
  {
   "cell_type": "code",
   "execution_count": 25,
   "metadata": {},
   "outputs": [
    {
     "name": "stdout",
     "output_type": "stream",
     "text": [
      "numpy\n"
     ]
    }
   ],
   "source": [
    "import collections\n",
    "\n",
    "dict_count = collections.Counter(words)\n",
    "print(max(dict_count, key=dict_count.get))"
   ]
  }
 ],
 "metadata": {
  "kernelspec": {
   "display_name": "venv",
   "language": "python",
   "name": "python3"
  },
  "language_info": {
   "codemirror_mode": {
    "name": "ipython",
    "version": 3
   },
   "file_extension": ".py",
   "mimetype": "text/x-python",
   "name": "python",
   "nbconvert_exporter": "python",
   "pygments_lexer": "ipython3",
   "version": "3.11.7"
  }
 },
 "nbformat": 4,
 "nbformat_minor": 2
}
