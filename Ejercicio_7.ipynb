{
 "cells": [
  {
   "cell_type": "markdown",
   "metadata": {},
   "source": [
    "## Ejercicio 7\n",
    "Dada una frase contar mayúsculas, minúsculas, caracteres no letras y la cantidad de palabras sin distinguir entre mayúsculas y minúsculas\n",
    "> La brecha salarial alcanzó el 27,7%: las mujeres ocupadas debieron trabajar 8 días y 10 horas más que los varones ocupados para ganar lo mismo que ellos en un mes."
   ]
  },
  {
   "cell_type": "code",
   "execution_count": 1,
   "metadata": {},
   "outputs": [],
   "source": [
    "text = \"\"\" La brecha salarial alcanzó el 27,7%: las mujeres ocupadas debieron trabajar 8 días y 10 horas más que los varones ocupados para ganar lo mismo que ellos en un mes. \"\"\""
   ]
  },
  {
   "cell_type": "markdown",
   "metadata": {},
   "source": [
    "1. Importar la galería string"
   ]
  },
  {
   "cell_type": "code",
   "execution_count": 4,
   "metadata": {},
   "outputs": [],
   "source": [
    "import string"
   ]
  },
  {
   "cell_type": "markdown",
   "metadata": {},
   "source": [
    "2. Contar mayúsculas, minúsculas, caracteres no letras y la cantidad de palabras."
   ]
  },
  {
   "cell_type": "code",
   "execution_count": 7,
   "metadata": {},
   "outputs": [
    {
     "name": "stdout",
     "output_type": "stream",
     "text": [
      "Mayusculas: 1\n",
      "Minusculas: 120\n",
      "Caracteres no letras: 44\n",
      "Cantidad de palabras: 30\n"
     ]
    }
   ],
   "source": [
    "upper = 0\n",
    "lower = 0\n",
    "non_letter = 0\n",
    "\n",
    "for letter in string.ascii_uppercase:\n",
    "    upper += text.count(letter)\n",
    "\n",
    "for letter in string.ascii_lowercase:\n",
    "    lower += text.count(letter)\n",
    "\n",
    "for letter in string.ascii_letters:\n",
    "    non_letter += text.count(letter)\n",
    "non_letter = len(text) - non_letter\n",
    "q_words = len(text.split())\n",
    "\n",
    "print(\"Mayusculas:\", upper)\n",
    "print(\"Minusculas:\", lower)\n",
    "print(\"Caracteres no letras:\", non_letter)\n",
    "print(\"Cantidad de palabras:\", q_words)"
   ]
  }
 ],
 "metadata": {
  "kernelspec": {
   "display_name": "venv",
   "language": "python",
   "name": "python3"
  },
  "language_info": {
   "codemirror_mode": {
    "name": "ipython",
    "version": 3
   },
   "file_extension": ".py",
   "mimetype": "text/x-python",
   "name": "python",
   "nbconvert_exporter": "python",
   "pygments_lexer": "ipython3",
   "version": "3.11.7"
  }
 },
 "nbformat": 4,
 "nbformat_minor": 2
}
