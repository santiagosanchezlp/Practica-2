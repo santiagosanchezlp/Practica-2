{
 "cells": [
  {
   "cell_type": "markdown",
   "metadata": {},
   "source": [
    "## Ejercicio 10\n",
    "Un club de hockey posee las estadísticas de todxs sus jugadorxs de la última temporada jugada del torneo de hockey mixto. Poseen una lista con los nombres, otra con los goles a favor, otra con los goles evitados y la última con las asistencias realizadas. El club está por otorgar los premios de cierre de temporada y necesita:\n",
    "1. Generar una estructura todas las estadísticas asociadas a cada jugador o jugadora.\n",
    "2. Conocer el nombre y la cantidad de goles del goleador o goleadora.\n",
    "3. Conocer el nombre del jugador o jugadora más influyente, esto se consigue sumando goles a favor, goles evitados y cantidad de asistencias. La particularidad es que los goles a favor, evitados y las asistencias NO valen lo mismo (es un promedio ponderado):\n",
    "\n",
    "|                  |valor|\n",
    "|------------------|-----|\n",
    "|goles a favor     |1.5  |\n",
    "|goles en evitados |1.25 |\n",
    "|asistencias       |1    |\n",
    "\n",
    "4. Conocer el promedio de goles por partido del equipo en general. Dato: Se jugaron 25 partidos en la temporada.\n",
    "5. Conocer el promedio de goles por partido del goleador o goleadora. Dato: Se jugaron 25 partidos en la temporada.\n",
    "\n",
    "### Nota\n",
    "* Las 4 estructuras están ordenadas de forma que los elementos en la misma posición corresponden a un mismo jugador o jugadora.\n",
    "* Realizar funciones con cada ítem"
   ]
  },
  {
   "cell_type": "code",
   "execution_count": 9,
   "metadata": {},
   "outputs": [],
   "source": [
    "names = \"\"\"Agustin, Yanina, Andrés, Ariadna, Bautista, CAROLINA, CESAR, David, Diego, Dolores, \n",
    "DYLAN, ELIANA, Emanuel, Fabián, Noelia, Francsica', FEDERICO, Fernanda, GONZALO, Nancy\"\"\"\n",
    "goals = [0, 10, 4, 0, 5, 14, 0, 0, 7, 2, 1, 1, 1, 5, 6, 1, 1, 2, 0, 11]\n",
    "goals_avoided = [0, 2, 0, 0, 5, 2, 0, 0, 1, 2, 0, 5, 5, 0, 1, 0, 2, 3, 0, 0]\n",
    "assists = [0, 5, 1, 0, 5, 2, 0, 0, 1, 2, 1, 5, 5, 0, 1, 0, 2, 3, 1,0]"
   ]
  },
  {
   "cell_type": "markdown",
   "metadata": {},
   "source": [
    "* Creamos una lista de jugadores"
   ]
  },
  {
   "cell_type": "code",
   "execution_count": 2,
   "metadata": {},
   "outputs": [],
   "source": [
    "names = names.replace(\"\\n\", \"\")\n",
    "player_list = names.split(sep=\", \")"
   ]
  },
  {
   "cell_type": "markdown",
   "metadata": {},
   "source": [
    "1. Llamar a una función a la que le enviamos el nombre de los jugadores, sus goles convertidos, evitados y asistencias como parámetro y que que crea un diccionario en el que el nombre del jugador es la clave y sus estadísticas son los valores."
   ]
  },
  {
   "cell_type": "code",
   "execution_count": 13,
   "metadata": {},
   "outputs": [],
   "source": [
    "import calculadora\n",
    "stats = calculadora.statistics(player_list, goals, goals_avoided, assists)"
   ]
  },
  {
   "cell_type": "code",
   "execution_count": 11,
   "metadata": {},
   "outputs": [
    {
     "name": "stdout",
     "output_type": "stream",
     "text": [
      "Agustin (14, 0, 0)\n",
      "Yanina (10, 2, 5)\n",
      "Andrés (4, 0, 1)\n",
      "Ariadna (0, 0, 0)\n",
      "Bautista (5, 5, 5)\n",
      "CAROLINA (14, 2, 2)\n",
      "CESAR (0, 0, 0)\n",
      "David (0, 0, 0)\n",
      "Diego (7, 1, 1)\n",
      "Dolores (2, 2, 2)\n",
      "DYLAN (1, 0, 1)\n",
      "ELIANA (1, 5, 5)\n",
      "Emanuel (1, 5, 5)\n",
      "Fabián (5, 0, 0)\n",
      "Noelia (6, 1, 1)\n",
      "Francsica' (1, 0, 0)\n",
      "FEDERICO (1, 2, 2)\n",
      "Fernanda (2, 3, 3)\n",
      "GONZALO (0, 0, 1)\n",
      "Nancy (11, 0, 0)\n"
     ]
    }
   ],
   "source": [
    "for player in stats:\n",
    "    print(player, stats[player])"
   ]
  },
  {
   "cell_type": "markdown",
   "metadata": {},
   "source": [
    "2. Llamar a una función que identifique el mayor valor de goles en las estadísticas de los jugadores, que son enviadas por parámetro y luego filtre a todos los jugadores con esa cantidad de goles."
   ]
  },
  {
   "cell_type": "code",
   "execution_count": 14,
   "metadata": {},
   "outputs": [
    {
     "name": "stdout",
     "output_type": "stream",
     "text": [
      "Goleador/es, con 14 goles:\n",
      "CAROLINA "
     ]
    }
   ],
   "source": [
    "high_scorer = calculadora.high_scorer(stats)\n",
    "print(f\"Goleador/es, con {max(goals)} goles:\")\n",
    "for player in high_scorer:\n",
    "    print(player, end=\" \")"
   ]
  },
  {
   "cell_type": "markdown",
   "metadata": {},
   "source": [
    "3. Llamar a una función a la que se le envían el nombre de los jugadores, y sus goles convertidos, evitados y asistencias por parámetro y crea una lista de influencia de cada jugador, utilizando una función lambda considerando que goles convertidos, evitados y asistencias no valen lo mismo. \n",
    "Luego identificaremos el jugador con mayor influencia utilizando la función max del valor de influencia y buscaremos ese valor en la lista de jugadores, ya que conocemos su posición en esta lista.\n",
    "\n",
    "* El código utilizado es otra opción diferente a la utilizada en el punto 2 para fitrar los mayores valores de una estadística de los jugadores."
   ]
  },
  {
   "cell_type": "code",
   "execution_count": 6,
   "metadata": {},
   "outputs": [
    {
     "name": "stdout",
     "output_type": "stream",
     "text": [
      "El jugador CAROLINA fue el jugador más influyente, con una influencia de 25.5 puntos.\n"
     ]
    }
   ],
   "source": [
    "player_influence = calculadora.calc_influence(player_list, goals, goals_avoided, assists)\n",
    "print(f\"El jugador {player_influence[0][0]} fue el jugador más influyente\", end=\", \") if len(player_influence[0]) == 1 else print(f\"Los jugadores {player_influence[0]} fueron los jugadores más influyentes\", end=\", \")\n",
    "print(f\"con una influencia de {player_influence[1]} puntos.\")"
   ]
  },
  {
   "cell_type": "markdown",
   "metadata": {},
   "source": [
    "4. Llamar a la función team_goals_average, que recibe la lista de goles del equipo y la cantidad de partidos y retorna el promedio de gol por partido del equipo."
   ]
  },
  {
   "cell_type": "code",
   "execution_count": 7,
   "metadata": {},
   "outputs": [
    {
     "name": "stdout",
     "output_type": "stream",
     "text": [
      "El promedio de gol por partido del equipo es 3.4\n"
     ]
    }
   ],
   "source": [
    "match = 25\n",
    "print(f\"El promedio de gol por partido del equipo es {calculadora.team_goals_average(match, goals)}\")"
   ]
  },
  {
   "cell_type": "markdown",
   "metadata": {},
   "source": [
    "5. Llamar a la función player_goals_average, que indica el promedio de gol del goleador del equipo. Ya sabemos quién es la goleadora por el resultado del punto 3."
   ]
  },
  {
   "cell_type": "code",
   "execution_count": 8,
   "metadata": {},
   "outputs": [
    {
     "name": "stdout",
     "output_type": "stream",
     "text": [
      "Agustin CAROLINA tiene/n un promedio de gol de 0.56 goles por partido\n"
     ]
    }
   ],
   "source": [
    "for player in high_scorer:\n",
    "    print(player, end=\" \")\n",
    "print(f\"tiene/n un promedio de gol de {calculadora.player_goals_average(max(goals), match)} goles por partido\")"
   ]
  }
 ],
 "metadata": {
  "kernelspec": {
   "display_name": "Python 3 (ipykernel)",
   "language": "python",
   "name": "python3"
  },
  "language_info": {
   "codemirror_mode": {
    "name": "ipython",
    "version": 3
   },
   "file_extension": ".py",
   "mimetype": "text/x-python",
   "name": "python",
   "nbconvert_exporter": "python",
   "pygments_lexer": "ipython3",
   "version": "3.11.7"
  }
 },
 "nbformat": 4,
 "nbformat_minor": 4
}
