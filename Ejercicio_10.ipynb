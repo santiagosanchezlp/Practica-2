{
 "cells": [
  {
   "cell_type": "markdown",
   "metadata": {},
   "source": [
    "## Ejercicio 10\n",
    "Un club de hockey posee las estadísticas de todxs sus jugadorxs de la última temporada jugada del torneo de hockey mixto. Poseen una lista con los nombres, otra con los goles a favor, otra con los goles evitados y la última con las asistencias realizadas. El club está por otorgar los premios de cierre de temporada y necesita:\n",
    "1. Generar una estructura todas las estadísticas asociadas a cada jugador o jugadora.\n",
    "2. Conocer el nombre y la cantidad de goles del goleador o goleadora.\n",
    "3. Conocer el nombre del jugador o jugadora más influyente, esto se consigue sumando goles a favor, goles evitados y cantidad de asistencias. La particularidad es que los goles a favor, evitados y las asistencias NO valen lo mismo (es un promedio ponderado):\n",
    "\n",
    "|                  |valor|\n",
    "|------------------|-----|\n",
    "|goles a favor     |1.5  |\n",
    "|goles en evitados |1.25 |\n",
    "|asistencias       |1    |\n",
    "\n",
    "4. Conocer el promedio de goles por partido del equipo en general. Dato: Se jugaron 25 partidos en la temporada.\n",
    "5. Conocer el promedio de goles por partido del goleador o goleadora. Dato: Se jugaron 25 partidos en la temporada.\n",
    "\n",
    "### Nota\n",
    "* Las 4 estructuras están ordenadas de forma que los elementos en la misma posición corresponden a un mismo jugador o jugadora.\n",
    "* Realizar funciones con cada ítem"
   ]
  },
  {
   "cell_type": "code",
   "execution_count": 1,
   "metadata": {},
   "outputs": [],
   "source": [
    "names = \"\"\"Agustin, Yanina, Andrés, Ariadna, Bautista, CAROLINA, CESAR, David, Diego, Dolores, \n",
    "DYLAN, ELIANA, Emanuel, Fabián, Noelia, Francsica', FEDERICO, Fernanda, GONZALO, Nancy\"\"\"\n",
    "goals = [0, 10, 4, 0, 5, 14, 0, 0, 7, 2, 1, 1, 1, 5, 6, 1, 1, 2, 0, 11]\n",
    "goals_avoided = [0, 2, 0, 0, 5, 2, 0, 0, 1, 2, 0, 5, 5, 0, 1, 0, 2, 3, 0, 0]\n",
    "assists = [0, 5, 1, 0, 5, 2, 0, 0, 1, 2, 1, 5, 5, 0, 1, 0, 2, 3, 1,0]"
   ]
  },
  {
   "cell_type": "markdown",
   "metadata": {},
   "source": [
    "* Creamos una lista de jugadores"
   ]
  },
  {
   "cell_type": "code",
   "execution_count": 2,
   "metadata": {},
   "outputs": [],
   "source": [
    "names = names.replace(\"\\n\", \"\")\n",
    "player_list = names.split(sep=\", \")"
   ]
  },
  {
   "cell_type": "markdown",
   "metadata": {},
   "source": [
    "1. Crear un diccionario en el que el jugador es la clave y sus estadísticas son los valores. Utilizamos una funciòn que nos retorna una tupla con las estadísticas de los jugadores"
   ]
  },
  {
   "cell_type": "code",
   "execution_count": 3,
   "metadata": {},
   "outputs": [],
   "source": [
    "import calculadora\n",
    "stats = calculadora.statistics(player_list, goals, goals_avoided, assists)"
   ]
  },
  {
   "cell_type": "markdown",
   "metadata": {},
   "source": [
    "2. Identificamos el mayor valor en la lista goals. Luego identificamos su posición en la lista player_list y mostramos ambos valores."
   ]
  },
  {
   "cell_type": "code",
   "execution_count": 4,
   "metadata": {},
   "outputs": [
    {
     "name": "stdout",
     "output_type": "stream",
     "text": [
      "El jugador CAROLINA fue el goleador, con 14 goles convertidos.\n"
     ]
    }
   ],
   "source": [
    "high_scorer = calculadora.high_scorer(player_list, goals)\n",
    "print(f\"El jugador {high_scorer[0]} fue el goleador, con {high_scorer[1]} goles convertidos.\")"
   ]
  },
  {
   "cell_type": "markdown",
   "metadata": {},
   "source": [
    "3. Crearemos una lista de influencia de cada jugador, utilizando una función lambda considerando que goles a favor, evitados y las asistencias no valen lo mismo. \n",
    "Luego identificaremos el jugador con mayor influencia utilizando la función max del valor de influencia y buscaremos ese valor en la lista de jugadores, ya que conocemos su posición en esta lista."
   ]
  },
  {
   "cell_type": "code",
   "execution_count": 5,
   "metadata": {},
   "outputs": [
    {
     "name": "stdout",
     "output_type": "stream",
     "text": [
      "El jugador CAROLINA fue el jugador más influyente, con una influencia de 25.5 puntos.\n"
     ]
    }
   ],
   "source": [
    "calc_influence = lambda a, b, c: a*1.5 + b*1.25 + c\n",
    "\n",
    "player_influence = [calc_influence(goals[player], goals_avoided[player], assists[player]) for player in range(0, len(player_list))]\n",
    "print(f\"El jugador {player_list[player_influence.index(max(player_influence))]} fue el jugador más influyente, con una influencia de {max(player_influence)} puntos.\")"
   ]
  },
  {
   "cell_type": "markdown",
   "metadata": {},
   "source": [
    "4. Para conocer el promedio de goles, creamos una función team_goals_average en el archivo __init.py__ contenido en la carpeta calculadora, que importamos."
   ]
  },
  {
   "cell_type": "code",
   "execution_count": 3,
   "metadata": {},
   "outputs": [
    {
     "name": "stdout",
     "output_type": "stream",
     "text": [
      "El promedio de gol por partido del equipo es 2.84\n"
     ]
    }
   ],
   "source": [
    "match = 25\n",
    "print(f\"El promedio de gol por partido del equipo es {calculadora.team_goals_average(match, goals)}\")"
   ]
  },
  {
   "cell_type": "markdown",
   "metadata": {},
   "source": [
    "5. Para conocer el promedio de goles de un jugador, creamos la función player_goals_average en el archivo __init.py__ contenido en la carpeta calculadora, que importamos. Ya sabemos quién es la goleadora por el resultado del punto 3."
   ]
  },
  {
   "cell_type": "code",
   "execution_count": 5,
   "metadata": {},
   "outputs": [
    {
     "name": "stdout",
     "output_type": "stream",
     "text": [
      "El jugador CAROLINA tiene un promedio de gol de 0.56 goles por partido\n"
     ]
    }
   ],
   "source": [
    "print(f\"El jugador {player_list[goals.index(max(goals))]} tiene un promedio de gol de {calculadora.player_goals_average(max(goals), match)} goles por partido\")"
   ]
  }
 ],
 "metadata": {
  "kernelspec": {
   "display_name": "Python 3 (ipykernel)",
   "language": "python",
   "name": "python3"
  },
  "language_info": {
   "codemirror_mode": {
    "name": "ipython",
    "version": 3
   },
   "file_extension": ".py",
   "mimetype": "text/x-python",
   "name": "python",
   "nbconvert_exporter": "python",
   "pygments_lexer": "ipython3",
   "version": "3.11.7"
  }
 },
 "nbformat": 4,
 "nbformat_minor": 4
}
