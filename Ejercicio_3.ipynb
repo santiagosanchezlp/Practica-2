{
 "cells": [
  {
   "cell_type": "markdown",
   "metadata": {},
   "source": [
    "## Ejercicio 3\n",
    "\n",
    "Dado el siguiente texto guardado en la varible jupyter_info, solicite por teclado una letra e imprima las palabras que contengan dicha letra. En caso que no se haya ingresado un letra, indique el error. \n",
    "\n",
    "Ver: módulo string"
   ]
  },
  {
   "cell_type": "code",
   "execution_count": 7,
   "metadata": {},
   "outputs": [],
   "source": [
    "jupyter_info = \"\"\" JupyterLab is a web-based interactive development\n",
    "environment for Jupyter notebooks, code, and data. JupyterLab is\n",
    "flexible: configure and arrange the user interface to support a wide\n",
    "range of workflows in data science, scientific computing, and machine\n",
    "learning. JupyterLab is extensible and modular: write plugins that add\n",
    "new components and integrate with existing ones. \"\"\""
   ]
  },
  {
   "cell_type": "markdown",
   "metadata": {},
   "source": [
    "1. Solicito al usuario que ingrese una letra y valido que esta sea válida"
   ]
  },
  {
   "cell_type": "code",
   "execution_count": 8,
   "metadata": {},
   "outputs": [],
   "source": [
    "import string\n",
    "\n",
    "while True:\n",
    "    letter = input(\"Ingrese una letra\")\n",
    "    if letter in string.ascii_letters:\n",
    "        break\n",
    "    else:\n",
    "        print(\"Usted no ingresó una letra válida\")"
   ]
  },
  {
   "cell_type": "markdown",
   "metadata": {},
   "source": [
    "2. Creo la lista de palabras mencionadas en jupyter_info"
   ]
  },
  {
   "cell_type": "code",
   "execution_count": 9,
   "metadata": {},
   "outputs": [],
   "source": [
    "words = jupyter_info.split()"
   ]
  },
  {
   "cell_type": "markdown",
   "metadata": {},
   "source": [
    "3. Verifico si la letra está en cada palabra y la imprimo en caso de que así sea"
   ]
  },
  {
   "cell_type": "code",
   "execution_count": 10,
   "metadata": {},
   "outputs": [
    {
     "name": "stdout",
     "output_type": "stream",
     "text": [
      "for\n",
      "flexible:\n",
      "configure\n",
      "interface\n",
      "of\n",
      "workflows\n",
      "scientific\n"
     ]
    }
   ],
   "source": [
    "for word in words:\n",
    "    if letter in word:\n",
    "        print(word)"
   ]
  }
 ],
 "metadata": {
  "kernelspec": {
   "display_name": "venv",
   "language": "python",
   "name": "python3"
  },
  "language_info": {
   "codemirror_mode": {
    "name": "ipython",
    "version": 3
   },
   "file_extension": ".py",
   "mimetype": "text/x-python",
   "name": "python",
   "nbconvert_exporter": "python",
   "pygments_lexer": "ipython3",
   "version": "3.11.7"
  }
 },
 "nbformat": 4,
 "nbformat_minor": 2
}
