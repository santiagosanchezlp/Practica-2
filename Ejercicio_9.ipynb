{
 "cells": [
  {
   "cell_type": "markdown",
   "metadata": {},
   "source": [
    "## Ejercicio 9\n",
    "Escriba un programa que solicite por teclado una palabra y calcule el valor de la misma dada la siguiente tabla de valores del juego Scrabble:\n",
    "| Letra                        | valor     | \n",
    "|------------------------------|-----------|\n",
    "| A, E, I, O, U, L, N, R, S, T | 1         |\n",
    "| D, G                         | 2         |\n",
    "| B, C, M, P                   | 3         |\n",
    "| F, H, V, W, Y                | 4         |\n",
    "| K                            | 5         |\n",
    "| J, X                         | 8         |\n",
    "| Q, Z                         | 10        |\n",
    "\n",
    "* Tenga en cuenta qué estructura elige para guardar estos valores en Python\n"
   ]
  },
  {
   "cell_type": "markdown",
   "metadata": {},
   "source": [
    "1. Creamos una tupla con los las letras que tienen cada valor."
   ]
  },
  {
   "cell_type": "code",
   "execution_count": 31,
   "metadata": {},
   "outputs": [],
   "source": [
    "letter_1 = (\"a\", \"e\", \"i\", \"o\", \"u\", \"l\", \"n\", \"r\", \"s\", \"t\")\n",
    "letter_2 = (\"d\", \"g\")\n",
    "letter_3 = (\"b\", \"c\", \"m\", \"p\")\n",
    "letter_4 = (\"f\", \"h\", \"v\", \"w\", \"y\")\n",
    "letter_5 = tuple(\"k\")\n",
    "letter_8 = (\"j\", \"x\")\n",
    "letter_10 = (\"q\", \"z\")\n"
   ]
  },
  {
   "cell_type": "markdown",
   "metadata": {},
   "source": [
    "2. Armo un diccionario de valores y palabras"
   ]
  },
  {
   "cell_type": "code",
   "execution_count": 32,
   "metadata": {},
   "outputs": [],
   "source": [
    "dict_letter = {}\n",
    "dict_letter[1] = letter_1\n",
    "dict_letter[2] = letter_2\n",
    "dict_letter[3] = letter_3\n",
    "dict_letter[4] = letter_4\n",
    "dict_letter[5] = letter_5\n",
    "dict_letter[8] = letter_8\n",
    "dict_letter[10] = letter_10"
   ]
  },
  {
   "cell_type": "markdown",
   "metadata": {},
   "source": [
    "3. Solicitamos al jugador que ingrese una palabra."
   ]
  },
  {
   "cell_type": "code",
   "execution_count": 33,
   "metadata": {},
   "outputs": [],
   "source": [
    "word = input(\"Ingrese una palabra\")"
   ]
  },
  {
   "cell_type": "markdown",
   "metadata": {},
   "source": [
    "4. Calculamos su puntaje"
   ]
  },
  {
   "cell_type": "code",
   "execution_count": 38,
   "metadata": {},
   "outputs": [
    {
     "name": "stdout",
     "output_type": "stream",
     "text": [
      "La palabra tomate suma 8 puntos\n"
     ]
    }
   ],
   "source": [
    "points = 0\n",
    "for letter in word:\n",
    "    if letter in dict_letter[1]:\n",
    "        points += 1\n",
    "    elif letter in dict_letter[2]:\n",
    "        points += 2\n",
    "    elif letter in dict_letter[3]:\n",
    "        points += 3\n",
    "    elif letter in dict_letter[4]:\n",
    "        points += 4\n",
    "    elif letter in dict_letter[5]:\n",
    "        points += 5\n",
    "    elif letter in dict_letter[8]:\n",
    "        points += 8\n",
    "    elif letter in dict_letter[10]:\n",
    "        points += 10\n",
    "    else:\n",
    "        print(\"Usted no ingresó una palabra válida\")\n",
    "print(f\"La palabra {word} suma {points} puntos\")\n"
   ]
  },
  {
   "cell_type": "markdown",
   "metadata": {},
   "source": [
    "La solución anterio indica el puntaje de la palabra aunque esta sea inválida.\n",
    "\n",
    "Una mejor solución sería:"
   ]
  },
  {
   "cell_type": "code",
   "execution_count": 46,
   "metadata": {},
   "outputs": [
    {
     "name": "stdout",
     "output_type": "stream",
     "text": [
      "La palabra tomate suma 8 puntos\n"
     ]
    }
   ],
   "source": [
    "valid_letters = letter_1 + letter_2 + letter_3 + letter_4 + letter_5 + letter_8 + letter_10\n",
    "points = 0\n",
    "valid = True\n",
    "for letter in word:\n",
    "    if letter not in valid_letters:\n",
    "        valid = False\n",
    "        break\n",
    "    else:\n",
    "        for key in dict_letter:\n",
    "            if letter in dict_letter[key]:\n",
    "                points += key\n",
    "print(f\"La palabra {word} suma {points} puntos\") if valid else print(\"Usted no ingresó una palabra válida\")"
   ]
  }
 ],
 "metadata": {
  "kernelspec": {
   "display_name": "venv",
   "language": "python",
   "name": "python3"
  },
  "language_info": {
   "codemirror_mode": {
    "name": "ipython",
    "version": 3
   },
   "file_extension": ".py",
   "mimetype": "text/x-python",
   "name": "python",
   "nbconvert_exporter": "python",
   "pygments_lexer": "ipython3",
   "version": "3.11.7"
  }
 },
 "nbformat": 4,
 "nbformat_minor": 2
}
