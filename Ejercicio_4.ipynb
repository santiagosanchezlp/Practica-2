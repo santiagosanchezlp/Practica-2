{
 "cells": [
  {
   "cell_type": "markdown",
   "metadata": {},
   "source": [
    "## Ejercicio 4\n",
    "\n",
    "Dado el siguiente código que informa si la letra a se encuentra en una palabra ingresada por teclado"
   ]
  },
  {
   "cell_type": "code",
   "execution_count": null,
   "metadata": {},
   "outputs": [],
   "source": [
    "word = input(\"Ingresá una palabra: \")\n",
    "if \"a\" in word:\n",
    "    print(\"Hay al menos una letra a.\")\n",
    "else:\n",
    "    print(\"No hay letras a. \")"
   ]
  },
  {
   "cell_type": "markdown",
   "metadata": {},
   "source": [
    "Si ahora queremos saber si contiene la letra a y también la letra n, ¿cómo lo modificamos?"
   ]
  },
  {
   "cell_type": "code",
   "execution_count": 21,
   "metadata": {},
   "outputs": [
    {
     "name": "stdout",
     "output_type": "stream",
     "text": [
      "Hay al menos una letra a y una letra n.\n"
     ]
    }
   ],
   "source": [
    "checklist = (\"a\", \"n\")\n",
    "word = input(\"Ingresá una palabra: \")\n",
    "veces = 0\n",
    "for letter in checklist:\n",
    "    if letter in word:\n",
    "        veces += 1\n",
    "    else:\n",
    "        break\n",
    "if veces == len(checklist):\n",
    "    print(\"Hay al menos una letra a y una letra n.\")\n",
    "else:\n",
    "    print(\"No hay letras a y n.\")"
   ]
  },
  {
   "cell_type": "markdown",
   "metadata": {},
   "source": [
    "Otra forma de resolverlo:"
   ]
  },
  {
   "cell_type": "code",
   "execution_count": 22,
   "metadata": {},
   "outputs": [
    {
     "name": "stdout",
     "output_type": "stream",
     "text": [
      "Hay al menos una letra a y una letra n.\n"
     ]
    }
   ],
   "source": [
    "checklist = (\"a\", \"n\")\n",
    "word = input(\"Ingresá una palabra: \")\n",
    "veces = 0\n",
    "if all(checklist[checklist.index(letter)] in word for letter in checklist):\n",
    "    print(\"Hay al menos una letra a y una letra n.\")\n",
    "else:\n",
    "    print(\"No hay letras a y n.\")"
   ]
  }
 ],
 "metadata": {
  "kernelspec": {
   "display_name": "venv",
   "language": "python",
   "name": "python3"
  },
  "language_info": {
   "codemirror_mode": {
    "name": "ipython",
    "version": 3
   },
   "file_extension": ".py",
   "mimetype": "text/x-python",
   "name": "python",
   "nbconvert_exporter": "python",
   "pygments_lexer": "ipython3",
   "version": "3.11.7"
  }
 },
 "nbformat": 4,
 "nbformat_minor": 2
}
