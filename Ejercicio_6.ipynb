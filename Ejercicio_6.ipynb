{
 "cells": [
  {
   "cell_type": "markdown",
   "metadata": {},
   "source": [
    "## Ejercicio 6\n",
    "Dada una frase y un string ingresados por teclado (en ese orden), genere una lista de palabras, y sobre ella, informe la cantidad de palabras en las que se encuentra el string. No distingir entre mayúsculas y minúsculas"
   ]
  },
  {
   "cell_type": "code",
   "execution_count": 3,
   "metadata": {},
   "outputs": [
    {
     "name": "stdout",
     "output_type": "stream",
     "text": [
      "{'tres', 'tristes', 'trigo', 'tigres,', 'tragaban', 'en', 'trastos,', 'un', 'trigal,', 'tigres.'}\n"
     ]
    }
   ],
   "source": [
    "phrase = input(\"Ingrese una frase\")\n",
    "\n"
   ]
  },
  {
   "cell_type": "markdown",
   "metadata": {},
   "source": [
    "Limpiamos la frase e identificamos las palabras utilizadas"
   ]
  },
  {
   "cell_type": "code",
   "execution_count": 4,
   "metadata": {},
   "outputs": [],
   "source": [
    "phrase_without_comma_dots = phrase.replace(\",\", \"\").replace(\".\", \"\").lower()"
   ]
  },
  {
   "cell_type": "markdown",
   "metadata": {},
   "source": [
    "Primera solución sin leer bien el enunciado: Contar cada palabra."
   ]
  },
  {
   "cell_type": "code",
   "execution_count": 8,
   "metadata": {},
   "outputs": [
    {
     "name": "stdout",
     "output_type": "stream",
     "text": [
      "tres 3\n",
      "tristes 3\n",
      "tigres 2\n",
      "tragaban 2\n",
      "trigo 2\n",
      "en 2\n",
      "un 1\n",
      "trigal 1\n",
      "trastos 1\n"
     ]
    }
   ],
   "source": [
    "import collections\n",
    "phrase_count = collections.Counter(phrase_without_comma_dots.split())\n",
    "for word in phrase_count:\n",
    "    print(word, phrase_count[word])"
   ]
  },
  {
   "cell_type": "markdown",
   "metadata": {},
   "source": [
    "Respetando el enunciado"
   ]
  },
  {
   "cell_type": "code",
   "execution_count": 11,
   "metadata": {},
   "outputs": [
    {
     "name": "stdout",
     "output_type": "stream",
     "text": [
      "La palabra pko no aparece en la frase Tres tristes tigres, tragaban trigo en un trigal, en tres tristes trastos, tragaban trigo tres tristes tigres.\n"
     ]
    }
   ],
   "source": [
    "look = input(\"Ingrese la palabra buscada\")\n",
    "if phrase_without_comma_dots.count(look):\n",
    "    print(f\"La palabra {look} aparece {phrase_without_comma_dots.count(look)} veces en la frase\")\n",
    "else:\n",
    "    print(f\"La palabra {look} no aparece en la frase {phrase}\")"
   ]
  }
 ],
 "metadata": {
  "kernelspec": {
   "display_name": "venv",
   "language": "python",
   "name": "python3"
  },
  "language_info": {
   "codemirror_mode": {
    "name": "ipython",
    "version": 3
   },
   "file_extension": ".py",
   "mimetype": "text/x-python",
   "name": "python",
   "nbconvert_exporter": "python",
   "pygments_lexer": "ipython3",
   "version": "3.11.7"
  }
 },
 "nbformat": 4,
 "nbformat_minor": 2
}
