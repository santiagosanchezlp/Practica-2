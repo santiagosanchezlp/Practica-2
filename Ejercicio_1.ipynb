{
 "cells": [
  {
   "cell_type": "markdown",
   "metadata": {},
   "source": [
    "## Ejercicio 1\n",
    "\n",
    "Tomando el texto del README.md de numpy, copiar y pegar el texto en una variable,\n",
    "luego imprima todas las líneas cuya segunda palabra comience con una vocal (A, E, I,\n",
    "O, U, a, e, i, o, u)"
   ]
  },
  {
   "cell_type": "markdown",
   "metadata": {},
   "source": [
    "El primer paso es descargar README.md y crear una variable con el texto que esta contiene:"
   ]
  },
  {
   "cell_type": "code",
   "execution_count": 4,
   "metadata": {},
   "outputs": [],
   "source": [
    "text = \"\"\"<h1 align=\"center\">\n",
    "<img src=\"https://raw.githubusercontent.com/numpy/numpy/main/branding/logo/primary/numpylogo.svg\" width=\"300\">\n",
    "</h1><br>\n",
    "\n",
    "\n",
    "[![Powered by NumFOCUS](https://img.shields.io/badge/powered%20by-NumFOCUS-orange.svg?style=flat&colorA=E1523D&colorB=007D8A)](\n",
    "https://numfocus.org)\n",
    "[![PyPI Downloads](https://img.shields.io/pypi/dm/numpy.svg?label=PyPI%20downloads)](\n",
    "https://pypi.org/project/numpy/)\n",
    "[![Conda Downloads](https://img.shields.io/conda/dn/conda-forge/numpy.svg?label=Conda%20downloads)](\n",
    "https://anaconda.org/conda-forge/numpy)\n",
    "[![Stack Overflow](https://img.shields.io/badge/stackoverflow-Ask%20questions-blue.svg)](\n",
    "https://stackoverflow.com/questions/tagged/numpy)\n",
    "[![Nature Paper](https://img.shields.io/badge/DOI-10.1038%2Fs41586--020--2649--2-blue)](\n",
    "https://doi.org/10.1038/s41586-020-2649-2)\n",
    "[![OpenSSF Scorecard](https://api.securityscorecards.dev/projects/github.com/numpy/numpy/badge)](https://securityscorecards.dev/viewer/?uri=github.com/numpy/numpy)\n",
    "\n",
    "\n",
    "NumPy is the fundamental package for scientific computing with Python.\n",
    "\n",
    "- **Website:** https://www.numpy.org\n",
    "- **Documentation:** https://numpy.org/doc\n",
    "- **Mailing list:** https://mail.python.org/mailman/listinfo/numpy-discussion\n",
    "- **Source code:** https://github.com/numpy/numpy\n",
    "- **Contributing:** https://www.numpy.org/devdocs/dev/index.html\n",
    "- **Bug reports:** https://github.com/numpy/numpy/issues\n",
    "- **Report a security vulnerability:** https://tidelift.com/docs/security\n",
    "\n",
    "It provides:\n",
    "\n",
    "- a powerful N-dimensional array object\n",
    "- sophisticated (broadcasting) functions\n",
    "- tools for integrating C/C++ and Fortran code\n",
    "- useful linear algebra, Fourier transform, and random number capabilities\n",
    "\n",
    "Testing:\n",
    "\n",
    "NumPy requires `pytest` and `hypothesis`.  Tests can then be run after installation with:\n",
    "\n",
    "    python -c \"import numpy, sys; sys.exit(numpy.test() is False)\"\n",
    "\n",
    "Code of Conduct\n",
    "----------------------\n",
    "\n",
    "NumPy is a community-driven open source project developed by a diverse group of\n",
    "[contributors](https://numpy.org/teams/). The NumPy leadership has made a strong\n",
    "commitment to creating an open, inclusive, and positive community. Please read the\n",
    "[NumPy Code of Conduct](https://numpy.org/code-of-conduct/) for guidance on how to interact\n",
    "with others in a way that makes our community thrive.\n",
    "\n",
    "Call for Contributions\n",
    "----------------------\n",
    "\n",
    "The NumPy project welcomes your expertise and enthusiasm!\n",
    "\n",
    "Small improvements or fixes are always appreciated. If you are considering larger contributions\n",
    "to the source code, please contact us through the [mailing\n",
    "list](https://mail.python.org/mailman/listinfo/numpy-discussion) first.\n",
    "\n",
    "Writing code isn’t the only way to contribute to NumPy. You can also:\n",
    "- review pull requests\n",
    "- help us stay on top of new and old issues\n",
    "- develop tutorials, presentations, and other educational materials\n",
    "- maintain and improve [our website](https://github.com/numpy/numpy.org)\n",
    "- develop graphic design for our brand assets and promotional materials\n",
    "- translate website content\n",
    "- help with outreach and onboard new contributors\n",
    "- write grant proposals and help with other fundraising efforts\n",
    "\n",
    "For more information about the ways you can contribute to NumPy, visit [our website](https://numpy.org/contribute/). \n",
    "If you’re unsure where to start or how your skills fit in, reach out! You can\n",
    "ask on the mailing list or here, on GitHub, by opening a new issue or leaving a\n",
    "comment on a relevant issue that is already open.\n",
    "\n",
    "Our preferred channels of communication are all public, but if you’d like to\n",
    "speak to us in private first, contact our community coordinators at\n",
    "numpy-team@googlegroups.com or on Slack (write numpy-team@googlegroups.com for\n",
    "an invitation).\n",
    "\n",
    "We also have a biweekly community call, details of which are announced on the\n",
    "mailing list. You are very welcome to join.\n",
    "\n",
    "If you are new to contributing to open source, [this\n",
    "guide](https://opensource.guide/how-to-contribute/) helps explain why, what,\n",
    "and how to successfully get involved.\"\"\""
   ]
  },
  {
   "cell_type": "markdown",
   "metadata": {},
   "source": [
    "El siguiente paso es crear una funciòn que verifique si la palabra pasada como parámetro inicia con vocal y retorne True o False."
   ]
  },
  {
   "cell_type": "code",
   "execution_count": 5,
   "metadata": {},
   "outputs": [],
   "source": [
    "def starts_with_vowel (word):\n",
    "    vowels = (\"a\", \"e\", \"i\", \"o\", \"u\")\n",
    "    return word[0].lower() in vowels"
   ]
  },
  {
   "cell_type": "markdown",
   "metadata": {},
   "source": [
    "Por último, iterar cada línea de texto y verificar si su segunda palabra inicia con vocal.\n",
    "En caso que lo sea, imprimirla."
   ]
  },
  {
   "cell_type": "code",
   "execution_count": 6,
   "metadata": {},
   "outputs": [
    {
     "name": "stdout",
     "output_type": "stream",
     "text": [
      "<h1 align=\"center\">\n",
      "[![Stack Overflow](https://img.shields.io/badge/stackoverflow-Ask%20questions-blue.svg)](\n",
      "NumPy is the fundamental package for scientific computing with Python.\n",
      "- a powerful N-dimensional array object\n",
      "- useful linear algebra, Fourier transform, and random number capabilities\n",
      "Code of Conduct\n",
      "NumPy is a community-driven open source project developed by a diverse group of\n",
      "with others in a way that makes our community thrive.\n",
      "Small improvements or fixes are always appreciated. If you are considering larger contributions\n",
      "ask on the mailing list or here, on GitHub, by opening a new issue or leaving a\n",
      "comment on a relevant issue that is already open.\n",
      "numpy-team@googlegroups.com or on Slack (write numpy-team@googlegroups.com for\n",
      "an invitation).\n",
      "We also have a biweekly community call, details of which are announced on the\n"
     ]
    }
   ],
   "source": [
    "lines = text.splitlines(True)\n",
    "for line in lines:\n",
    "    words = line.split()\n",
    "    if len(words) > 1 and starts_with_vowel (words[1]):\n",
    "        print(\" \".join(words))"
   ]
  }
 ],
 "metadata": {
  "kernelspec": {
   "display_name": "venv",
   "language": "python",
   "name": "python3"
  },
  "language_info": {
   "codemirror_mode": {
    "name": "ipython",
    "version": 3
   },
   "file_extension": ".py",
   "mimetype": "text/x-python",
   "name": "python",
   "nbconvert_exporter": "python",
   "pygments_lexer": "ipython3",
   "version": "3.11.7"
  }
 },
 "nbformat": 4,
 "nbformat_minor": 2
}
